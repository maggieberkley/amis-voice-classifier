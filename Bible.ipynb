{
  "nbformat": 4,
  "nbformat_minor": 0,
  "metadata": {
    "colab": {
      "provenance": [],
      "authorship_tag": "ABX9TyPS9SVMyEzrCLEVVbdxmxRd"
    },
    "kernelspec": {
      "name": "python3",
      "display_name": "Python 3"
    },
    "language_info": {
      "name": "python"
    }
  },
  "cells": [
    {
      "cell_type": "markdown",
      "source": [
        "# Data Preparation: Bible in Amis and English"
      ],
      "metadata": {
        "id": "xg27tNwet5k0"
      }
    },
    {
      "cell_type": "code",
      "execution_count": null,
      "metadata": {
        "id": "EEVaYmXTJgOr"
      },
      "outputs": [],
      "source": [
        "# Mount your Google Drive\n",
        "from google.colab import drive\n",
        "drive.mount('/content/drive')"
      ]
    },
    {
      "cell_type": "code",
      "source": [
        "import re\n",
        "import glob"
      ],
      "metadata": {
        "id": "je_Ip100a9Vx"
      },
      "execution_count": null,
      "outputs": []
    },
    {
      "cell_type": "markdown",
      "source": [
        "## Step 1: Get data and put it into the right format"
      ],
      "metadata": {
        "id": "nJWq5sYmuN2c"
      }
    },
    {
      "cell_type": "code",
      "source": [
        "# Create lists of all files in Amis and English\n",
        "bible_files_am = glob.glob(\"/content/drive/MyDrive/FormosanResources/Bible_formo/Amis/*.txt\")\n",
        "bible_files_en = glob.glob(\"/content/drive/MyDrive/FormosanResources/Bible_formo/English/*.txt\")\n",
        "\n",
        "# Sort file names in alphabetical order\n",
        "bible_files_am = sorted(bible_files_am)\n",
        "bible_files_en = sorted(bible_files_en)\n",
        "\n",
        "# Get list of just file names for later\n",
        "filenames = [re.sub(\"/content/drive/MyDrive/FormosanResources/Bible_formo/Amis/\", \"\", name) for name in bible_files_am]\n",
        "filenames = [re.sub(\"AMIBSTN1DA.txt\", \"\", name) for name in filenames]"
      ],
      "metadata": {
        "id": "R_Fmfiipa--d"
      },
      "execution_count": null,
      "outputs": []
    },
    {
      "cell_type": "code",
      "source": [
        "print(filenames)\n",
        "print(len(filenames))"
      ],
      "metadata": {
        "id": "4y9HmWQBvZRX"
      },
      "execution_count": null,
      "outputs": []
    },
    {
      "cell_type": "code",
      "source": [
        "# Check first and last file names in each list\n",
        "print(bible_files_am[0])\n",
        "print(bible_files_en[0])\n",
        "print(bible_files_am[-1])\n",
        "print(bible_files_en[-1])\n",
        "\n",
        "# Check length of each list\n",
        "print(len(bible_files_am))\n",
        "print(len(bible_files_en))"
      ],
      "metadata": {
        "id": "lBr9rfzVbD2_"
      },
      "execution_count": null,
      "outputs": []
    },
    {
      "cell_type": "code",
      "source": [
        "# Check for missing files\n",
        "am_list = []\n",
        "en_list = []\n",
        "for i in range(len(bible_files_am)):\n",
        "  am = bible_files_am[i]\n",
        "  am = re.sub(\"/content/drive/MyDrive/FormosanResources/Bible_formo/Amis/\", \"\", am)\n",
        "  am = re.sub(\"AMIBSTN1DA.txt\", \"\", am)\n",
        "  am_list.append(am)\n",
        "for i in range(len(bible_files_en)):\n",
        "  en = bible_files_en[i]\n",
        "  en = re.sub(\"/content/drive/MyDrive/FormosanResources/Bible_formo/English/\", \"\", en)\n",
        "  en = re.sub(\"ENGNIVN1DA.txt\", \"\", en)\n",
        "  en_list.append(en)\n",
        "for i in range(len(bible_files_am)):\n",
        "  if am_list[i] not in en_list:\n",
        "    print(\"In Amis but not English:\", am_list[i])\n",
        "for i in range(len(bible_files_en)):\n",
        "  if en_list[i] not in am_list:\n",
        "    print(\"In English but not Amis:\", en_list[i])"
      ],
      "metadata": {
        "id": "ZrDsYKFvbHZR"
      },
      "execution_count": null,
      "outputs": []
    },
    {
      "cell_type": "code",
      "source": [
        "# For each story, combine the Amis and English into a list\n",
        "# This way we can covert it into XML\n",
        "bible_big_list = []\n",
        "\n",
        "for bible_file in bible_files_am:\n",
        "  # The order of elements will be\n",
        "  # Amis (standardized orthography), Amis (original), English\n",
        "  bible_list = []\n",
        "  filename = bible_file[:-14]\n",
        "\n",
        "  # AMIS\n",
        "  # Open and read Amis file\n",
        "  f1 = open(bible_file, \"r\")\n",
        "  file_am = f1.read()\n",
        "\n",
        "  # Remove any trailing whitespace\n",
        "  file_am = file_am.strip()\n",
        "  # Get rid of numbers at beginning of each line\n",
        "  file_am = re.sub(r\"\\*\\*[0-9]+\\*\\*\", \"\", file_am)\n",
        "  # Remove double, triple newlines\n",
        "  file_am = re.sub(r\"\\n+[\\s\\n]*\", \"\\n\", file_am)\n",
        "  # Split on newline\n",
        "  list_am = file_am.split(\"\\n\")\n",
        "  # Strip leading spaces\n",
        "  list_am = [sentence.lstrip() for sentence in list_am]\n",
        "\n",
        "  # Clean the Amis data for standardized orthography\n",
        "  # Remove punctuation\n",
        "  file_am_standard = re.sub(r\"[\\\\_,\\[\\]\\(\\);/<>]+\", \"\", file_am)\n",
        "  file_am_standard = re.sub(r\"[’‘]\", \"'\", file_am_standard)\n",
        "  # Make lowercase\n",
        "  file_am_standard = file_am_standard.lower()\n",
        "  # Replace all sentence-final punctuation with newline\n",
        "  #file_am = re.sub(r\"[\\.\\!\\?]\", \"\\n\", file_am)\n",
        "  # Remove double, triple newlines\n",
        "  file_am = re.sub(r\"\\n+\", \"\\n\", file_am)\n",
        "  # Amis with standardized orthography (replace o with u)\n",
        "  file_am_standard = re.sub(\"o\", \"u\", file_am_standard)\n",
        "\n",
        "  # Split on newline\n",
        "  list_am_standard = file_am_standard.split(\"\\n\")\n",
        "  # Strip leading spaces\n",
        "  list_am_standard = [sentence.lstrip() for sentence in list_am_standard]\n",
        "\n",
        "  # Add both Amis strings to the list\n",
        "  bible_list.append(list_am_standard)\n",
        "  bible_list.append(list_am)\n",
        "\n",
        "  # ENGLISH\n",
        "  # Open and read English file\n",
        "  filename = re.sub(\"AMIBSTN1DA.txt\", \"ENGNIVN1DA.txt\", bible_file)\n",
        "  filename = re.sub(\"/Amis/\", \"/English/\", filename)\n",
        "  f2 = open(filename, \"r\")\n",
        "  file_en = f2.read()\n",
        "\n",
        "  # Remove any trailing whitespace\n",
        "  file_en = file_en.strip()\n",
        "  # Get rid of numbers at beginning of each line\n",
        "  file_en = re.sub(r\"\\*\\*[0-9]+\\*\\*\", \"\", file_en)\n",
        "  # Remove double, triple newlines\n",
        "  file_en = re.sub(r\"\\n+\", \"\\n\", file_en)\n",
        "  # Split on newline\n",
        "  list_en = file_en.split(\"\\n\")\n",
        "\n",
        "  # Add English string to the list\n",
        "  bible_list.append(list_en)\n",
        "\n",
        "  # Add the list to the big list\n",
        "  bible_big_list.append(bible_list)"
      ],
      "metadata": {
        "id": "VBPeT2f8b8jw"
      },
      "execution_count": null,
      "outputs": []
    },
    {
      "cell_type": "code",
      "source": [
        "# Check length of big list\n",
        "print(len(bible_files_am))\n",
        "print(len(bible_big_list))\n",
        "\n",
        "# Check to make sure all languages have the same number of lines\n",
        "for i in range(len(bible_big_list)):\n",
        "  story = bible_big_list[i]\n",
        "  if not (len(story[0]) == len(story[1]) == len(story[2])):\n",
        "    print(bible_files_am[i])\n",
        "    print(len(story[0]))\n",
        "    print(len(story[1]))\n",
        "    print(len(story[2]))\n"
      ],
      "metadata": {
        "id": "HaJELFhRq_oV"
      },
      "execution_count": null,
      "outputs": []
    },
    {
      "cell_type": "code",
      "source": [
        "# Check to make sure it lines up\n",
        "print(bible_big_list[0][0][:3])\n",
        "print(bible_big_list[0][1][:3])\n",
        "print(bible_big_list[0][2][:3])\n",
        "print()\n",
        "\n",
        "print(bible_big_list[1][0][:3])\n",
        "print(bible_big_list[1][1][:3])\n",
        "print(bible_big_list[1][2][:3])\n",
        "print()\n",
        "\n",
        "print(bible_big_list[-1][0][:3])\n",
        "print(bible_big_list[-1][1][:3])\n",
        "print(bible_big_list[-1][2][:3])\n",
        "\n",
        "# Check for empty strings at the end\n",
        "for i in range(5):\n",
        "  print(bible_big_list[i][0][-1])\n",
        "  print(bible_big_list[i][1][-1])\n",
        "  print(bible_big_list[i][2][-1])"
      ],
      "metadata": {
        "id": "-u_9GoChg5_d"
      },
      "execution_count": null,
      "outputs": []
    },
    {
      "cell_type": "code",
      "source": [
        "# Now our Bible data is ready to for XML\n",
        "# The format of bible_big_list is as follows\n",
        "# bible_big_list[story][language][sentence]\n",
        "print(len(bible_big_list))"
      ],
      "metadata": {
        "id": "cHOeO8onsdJ5"
      },
      "execution_count": null,
      "outputs": []
    },
    {
      "cell_type": "markdown",
      "source": [
        "## Step 2: XML"
      ],
      "metadata": {
        "id": "jUCK5edXudQQ"
      }
    },
    {
      "cell_type": "code",
      "source": [
        "import xml.etree.ElementTree as ET\n",
        "import xml.dom.minidom"
      ],
      "metadata": {
        "id": "zvvph_Gcy-m9"
      },
      "execution_count": null,
      "outputs": []
    },
    {
      "cell_type": "code",
      "source": [
        "# This is the code for putting both the Amis and English translations into XML\n",
        "# For each story, create a root and a TEXT subelement under root\n",
        "for i in range(len(bible_big_list)):\n",
        "  root = ET.Element(\"root\")\n",
        "  text_element = ET.SubElement(root, \"TEXT\", {\"xml:lang\": \"amis1246\", \"source\": f\"bible_{filenames[i]}\"})\n",
        "\n",
        "  # For each sentence in the story, create the S element and its child elements\n",
        "  for j in range(len(bible_big_list[i][0])):\n",
        "\n",
        "    # First get the FORM (Amis sentence in standard orthography)\n",
        "    s_element = ET.SubElement(text_element, \"S\", id=f\"S{j}\")\n",
        "    form_element = ET.SubElement(s_element, \"FORM\", kindOf=\"standard\")\n",
        "    form_element.text = bible_big_list[i][0][j]\n",
        "\n",
        "    # Now get the Amis in original orthography\n",
        "    form_element = ET.SubElement(s_element, \"FORM\", kindOf=\"original\")\n",
        "    form_element.text = bible_big_list[i][1][j]\n",
        "\n",
        "    # Now get the English\n",
        "    transl_element = ET.SubElement(s_element, \"TRANSL\", {\"xml:lang\": \"stan1293\"})\n",
        "    try:\n",
        "      transl_element.text = bible_big_list[i][2][j]\n",
        "\n",
        "    # Now get the words (from the standard Amis sentences)\n",
        "      words = bible_big_list[i][0][j].split()\n",
        "      for k in range(len(words)):\n",
        "        w_element = ET.SubElement(s_element, \"W\", id=f\"S{j}W{k}\")\n",
        "        wform_element = ET.SubElement(w_element, \"FORM\")\n",
        "        wform_element.text = re.sub(r\"[.?!]\", \"\", words[k])\n",
        "    except:\n",
        "      print(\"story=\", filenames[i], \"sentence=\", j)\n",
        "\n",
        "  # Generate XML tree\n",
        "  tree = ET.ElementTree(root)\n",
        "\n",
        "  # This is what will make the XML look \"pretty\" (readable,\n",
        "  # with newlines, indenting) when you write it out to a file.\n",
        "  xml_str = xml.dom.minidom.parseString(ET.tostring(root)).toprettyxml(indent=\"    \")\n",
        "\n",
        "  # This does the writing to the file.\n",
        "  with open(f\"/content/drive/MyDrive/Part1/BibleV2/bible_{filenames[i]}.xml\", \"w\", encoding=\"utf-8\") as f:\n",
        "    f.write(xml_str)"
      ],
      "metadata": {
        "id": "tA_bY0BxufUz"
      },
      "execution_count": null,
      "outputs": []
    }
  ]
}