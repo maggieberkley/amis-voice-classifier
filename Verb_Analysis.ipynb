{
  "nbformat": 4,
  "nbformat_minor": 0,
  "metadata": {
    "colab": {
      "provenance": [],
      "authorship_tag": "ABX9TyMVGFg+9K1/pzaKnpwkJTty"
    },
    "kernelspec": {
      "name": "python3",
      "display_name": "Python 3"
    },
    "language_info": {
      "name": "python"
    }
  },
  "cells": [
    {
      "cell_type": "markdown",
      "source": [
        "# Verb and Voice Analysis"
      ],
      "metadata": {
        "id": "5QGywOucAKaX"
      }
    },
    {
      "cell_type": "code",
      "execution_count": null,
      "metadata": {
        "id": "nBl5oROwRtVl"
      },
      "outputs": [],
      "source": [
        "# Mount your Google Drive\n",
        "from google.colab import drive\n",
        "drive.mount('/content/drive')"
      ]
    },
    {
      "cell_type": "code",
      "source": [
        "# Import statements\n",
        "import pandas as pd\n",
        "import matplotlib.pyplot as plt\n",
        "import re"
      ],
      "metadata": {
        "id": "tKNYyI4Id4RX"
      },
      "execution_count": null,
      "outputs": []
    },
    {
      "cell_type": "markdown",
      "source": [
        "## STEP 1: Read in verb lists"
      ],
      "metadata": {
        "id": "v_lTVJ0BDqgL"
      }
    },
    {
      "cell_type": "code",
      "source": [
        "# NTU VERBS\n",
        "# Open and read file\n",
        "with open(\"/content/drive/MyDrive/Part2/Verbs/verbs_NTU.txt\", \"r\") as f:\n",
        "  ntu_verb_string = f.read()\n",
        "\n",
        "# Convert to list\n",
        "ntu_list = ntu_verb_string.split(\",\")"
      ],
      "metadata": {
        "id": "Uzki3B4gSXbj"
      },
      "execution_count": null,
      "outputs": []
    },
    {
      "cell_type": "code",
      "source": [
        "# NTU AV VERBS\n",
        "# Open and read file\n",
        "with open(\"/content/drive/MyDrive/Part2/Verbs/av_verbs_NTU.txt\", \"r\") as f:\n",
        "  av_verb_string = f.read()\n",
        "\n",
        "# Convert to list\n",
        "av_list = av_verb_string.split(\",\")"
      ],
      "metadata": {
        "id": "O3JbJV9ePGX1"
      },
      "execution_count": null,
      "outputs": []
    },
    {
      "cell_type": "code",
      "source": [
        "# NTU PV VERBS\n",
        "# Open and read file\n",
        "with open(\"/content/drive/MyDrive/Part2/Verbs/pv_verbs_NTU.txt\", \"r\") as f:\n",
        "  pv_verb_string = f.read()\n",
        "\n",
        "# Convert to list\n",
        "pv_list = pv_verb_string.split(\",\")"
      ],
      "metadata": {
        "id": "3gybeKBzRctF"
      },
      "execution_count": null,
      "outputs": []
    },
    {
      "cell_type": "code",
      "source": [
        "# NTU LV VERBS\n",
        "# Open and read file\n",
        "with open(\"/content/drive/MyDrive/Part2/Verbs/lv_verbs_NTU.txt\", \"r\") as f:\n",
        "  lv_verb_string = f.read()\n",
        "\n",
        "# Convert to list\n",
        "lv_list = lv_verb_string.split(\",\")"
      ],
      "metadata": {
        "id": "PD0ZHmE6Rc1z"
      },
      "execution_count": null,
      "outputs": []
    },
    {
      "cell_type": "code",
      "source": [
        "# NTU IV VERBS\n",
        "# Open and read file\n",
        "with open(\"/content/drive/MyDrive/Part2/Verbs/iv_verbs_NTU.txt\", \"r\") as f:\n",
        "  iv_verb_string = f.read()\n",
        "\n",
        "# Convert to list\n",
        "iv_list = iv_verb_string.split(\",\")"
      ],
      "metadata": {
        "id": "eafNpghTRc-Q"
      },
      "execution_count": null,
      "outputs": []
    },
    {
      "cell_type": "code",
      "source": [
        "# NTU VERB STEMS\n",
        "# Open and read file\n",
        "with open(\"/content/drive/MyDrive/Part2/Verbs/stems_NTU.txt\", \"r\") as f:\n",
        "  stem_string = f.read()\n",
        "\n",
        "# Convert to list\n",
        "stem_list = stem_string.split(\",\")"
      ],
      "metadata": {
        "id": "JgdzGetkSTmp"
      },
      "execution_count": null,
      "outputs": []
    },
    {
      "cell_type": "code",
      "source": [
        "# BIBLE VERBS\n",
        "# Open and read file\n",
        "with open(\"/content/drive/MyDrive/Part2/Verbs/verbs_Bible.txt\", \"r\") as f:\n",
        "  bible_verb_string = f.read()\n",
        "\n",
        "# Convert to list\n",
        "bible_list = bible_verb_string.split(\",\")"
      ],
      "metadata": {
        "id": "uLVPCfbaSV9N"
      },
      "execution_count": null,
      "outputs": []
    },
    {
      "cell_type": "code",
      "source": [
        "# Create lists of unique verbs in NTU and Bible\n",
        "ntu_unique = list(set(ntu_list))\n",
        "bible_unique = list(set(bible_list))"
      ],
      "metadata": {
        "id": "RvKcX5-1USCy"
      },
      "execution_count": null,
      "outputs": []
    },
    {
      "cell_type": "code",
      "source": [
        "# Some basic numbers\n",
        "print(\"Verbs in NTU Corpus:\", len(ntu_list))\n",
        "print(\"Unique verbs in NTU Corpus:\", len(ntu_unique))\n",
        "print(\"Verb stems in NTU Corpus:\", len(stem_list))\n",
        "\n",
        "print(\"\\nAV verbs in NTU Corpus:\", len(av_list))\n",
        "print(\"Proportion of AV verbs in NTU Corpus:\", round(len(av_list)/len(ntu_unique), 2))\n",
        "print(\"\\nPV verbs in NTU Corpus:\", len(pv_list))\n",
        "print(\"Proportion of PV verbs in NTU Corpus:\", round(len(pv_list)/len(ntu_unique), 2))\n",
        "print(\"\\nLV verbs in NTU Corpus:\", len(lv_list))\n",
        "print(\"Proportion of LV verbs in NTU Corpus:\", round(len(lv_list)/len(ntu_unique), 2))\n",
        "print(\"\\nIV verbs in NTU Corpus:\", len(iv_list))\n",
        "print(\"Proportion of IV verbs in NTU Corpus:\", round(len(iv_list)/len(ntu_unique), 2))\n",
        "\n",
        "print(\"\\nVerbs in Bible:\", len(bible_list))\n",
        "print(\"Unique verbs in Bible:\", len(bible_unique))"
      ],
      "metadata": {
        "id": "E-vsI6YeRdA8"
      },
      "execution_count": null,
      "outputs": []
    },
    {
      "cell_type": "markdown",
      "source": [
        "\n",
        "\n",
        "```\n",
        "Verbs in NTU Corpus: 1174\n",
        "Unique verbs in NTU Corpus: 665\n",
        "Verb stems in NTU Corpus: 369\n",
        "\n",
        "AV verbs in NTU Corpus: 253\n",
        "Proportion of AV verbs in NTU Corpus: 0.38\n",
        "\n",
        "PV verbs in NTU Corpus: 280\n",
        "Proportion of PV verbs in NTU Corpus: 0.42\n",
        "\n",
        "LV verbs in NTU Corpus: 105\n",
        "Proportion of LV verbs in NTU Corpus: 0.16\n",
        "\n",
        "IV verbs in NTU Corpus: 24\n",
        "Proportion of IV verbs in NTU Corpus: 0.04\n",
        "\n",
        "Verbs in Bible: 94214\n",
        "Unique verbs in Bible: 4440\n",
        "```\n",
        "\n"
      ],
      "metadata": {
        "id": "4COlQSOvyv-o"
      }
    },
    {
      "cell_type": "markdown",
      "source": [
        "## STEP 2: Create dataframes for the NTU and Bible data"
      ],
      "metadata": {
        "id": "OVoI1eJQVPuV"
      }
    },
    {
      "cell_type": "code",
      "source": [
        "# NTU\n",
        "# Create a dictionary of verb frequencies\n",
        "ntu_dict = {}\n",
        "for verb in ntu_list:\n",
        "  if verb not in ntu_dict:\n",
        "    ntu_dict[verb] = 1\n",
        "  else:\n",
        "    ntu_dict[verb] += 1"
      ],
      "metadata": {
        "id": "lvFYtpcTTWfw"
      },
      "execution_count": null,
      "outputs": []
    },
    {
      "cell_type": "code",
      "source": [
        "# Sort dictionary by frequency\n",
        "# Create tuples of (verb, frequency)\n",
        "sorted_ntu = sorted(ntu_dict.items(), key=lambda x: x[1], reverse=True)"
      ],
      "metadata": {
        "id": "WXRkq9SAavEP"
      },
      "execution_count": null,
      "outputs": []
    },
    {
      "cell_type": "code",
      "source": [
        "# Bible\n",
        "# Create a dictionary of verb frequencies\n",
        "bible_dict = {}\n",
        "for verb in bible_list:\n",
        "  if verb not in bible_dict:\n",
        "    bible_dict[verb] = 1\n",
        "  else:\n",
        "    bible_dict[verb] += 1"
      ],
      "metadata": {
        "id": "HZTrA3PTVSS1"
      },
      "execution_count": null,
      "outputs": []
    },
    {
      "cell_type": "code",
      "source": [
        "# Sort dictionary by frequency\n",
        "# Create tuples of (verb, frequency)\n",
        "sorted_bible = sorted(bible_dict.items(), key=lambda x: x[1], reverse=True)"
      ],
      "metadata": {
        "id": "ElRcfGupa05I"
      },
      "execution_count": null,
      "outputs": []
    },
    {
      "cell_type": "code",
      "source": [
        "verb_data = [[\"Verb\", \"Frequency in NTU\", \"Rank in NTU\", \"Frequency in Bible\", \"Rank in Bible\"]]\n",
        "ntu_data = [[\"Verb\", \"Frequency in NTU\", \"Rank in NTU\", \"Voice\", \"Stem\"]]\n",
        "bible_data = [[\"Verb\", \"Frequency in Bible\", \"Rank in Bible\"]]\n",
        "\n",
        "# Create list of verbs, frequencies, and ranks in NTU\n",
        "for i in range(len(sorted_ntu)):\n",
        "  lst = []\n",
        "  lst.append(sorted_ntu[i][0])\n",
        "  lst.append(sorted_ntu[i][1])\n",
        "  lst.append(i + 1)\n",
        "  freq_bible, rank_bible = \"N/A\", \"N/A\"\n",
        "  for j in range(len(sorted_bible)):\n",
        "    if sorted_ntu[i][0] == sorted_bible[j][0]:\n",
        "      freq_bible = sorted_bible[j][1]\n",
        "      rank_bible = j + 1\n",
        "  lst.append(freq_bible)\n",
        "  lst.append(rank_bible)\n",
        "  verb_data.append(lst)\n",
        "\n",
        "# Extend to include verbs in Bible\n",
        "for i in range(len(sorted_bible)):\n",
        "  if not any(sorted_bible[i][0] in j for j in verb_data):\n",
        "    lst = []\n",
        "    lst.append(sorted_bible[i][0])\n",
        "    lst.append(\"N/A\")\n",
        "    lst.append(\"N/A\")\n",
        "    lst.append(sorted_bible[i][1])\n",
        "    lst.append(i + 1)\n",
        "    verb_data.append(lst)\n",
        "\n",
        "# Create a separate list for NTU\n",
        "for i in range(len(sorted_ntu)):\n",
        "  lst = []\n",
        "\n",
        "  # Add the verb\n",
        "  lst.append(sorted_ntu[i][0])\n",
        "\n",
        "  # Add the verb's frequency\n",
        "  lst.append(sorted_ntu[i][1])\n",
        "\n",
        "  # Add the verb's rank\n",
        "  lst.append(i + 1)\n",
        "\n",
        "  # Add the verb's voice\n",
        "  av, pv, lv, iv = 0, 0, 0, 0\n",
        "\n",
        "  if sorted_ntu[i][0] in av_list:\n",
        "    av = 1\n",
        "  elif sorted_ntu[i][0] in pv_list:\n",
        "    pv = 1\n",
        "  elif sorted_ntu[i][0] in lv_list:\n",
        "    lv = 1\n",
        "  elif sorted_ntu[i][0] in iv_list:\n",
        "    iv = 1\n",
        "\n",
        "  # If it is in multiple lists or no lists, mark voice as unknown\n",
        "  if (av + pv + lv + iv != 1):\n",
        "    lst.append(\"unknown\")\n",
        "  # Otherwise mark the voice\n",
        "  elif av == 1:\n",
        "    lst.append(\"AV\")\n",
        "  elif pv == 1:\n",
        "    lst.append(\"PV\")\n",
        "  elif lv == 1:\n",
        "    lst.append(\"LV\")\n",
        "  elif iv == 1:\n",
        "    lst.append(\"IV\")\n",
        "\n",
        "  # Add the verb's stem\n",
        "  stem_check = 0\n",
        "  for stem in stem_list:\n",
        "    if re.search(stem, sorted_ntu[i][0]):\n",
        "      lst.append(stem)\n",
        "      stem_check = 1\n",
        "      break\n",
        "  if not stem_check:\n",
        "    lst.append(\"[unknown]\")\n",
        "  ntu_data.append(lst)\n",
        "\n",
        "# Create a separate list for Bible\n",
        "for i in range(len(sorted_bible)):\n",
        "  lst = []\n",
        "  lst.append(sorted_bible[i][0])\n",
        "  lst.append(sorted_bible[i][1])\n",
        "  lst.append(i + 1)\n",
        "  bible_data.append(lst)"
      ],
      "metadata": {
        "id": "24r6i85Obcln"
      },
      "execution_count": null,
      "outputs": []
    },
    {
      "cell_type": "code",
      "source": [
        "# Check the first few items\n",
        "print(verb_data[:10])\n",
        "print(ntu_data[:10])\n",
        "print(bible_data[:10])"
      ],
      "metadata": {
        "id": "eaniARkFdlKD"
      },
      "execution_count": null,
      "outputs": []
    },
    {
      "cell_type": "code",
      "source": [
        "# Create a dataframe for both NTU and Bible\n",
        "verb_df = pd.DataFrame(verb_data[1:], columns=verb_data[0])\n",
        "\n",
        "# Save to a CSV file\n",
        "verb_df.to_csv(\"/content/drive/MyDrive/Part2/Analysis/verb_data.csv\")"
      ],
      "metadata": {
        "id": "exNAkWTSd2qN"
      },
      "execution_count": null,
      "outputs": []
    },
    {
      "cell_type": "code",
      "source": [
        "# Create a dataframe for NTU only\n",
        "ntu_df = pd.DataFrame(ntu_data[1:], columns=ntu_data[0])\n",
        "\n",
        "# Save to a CSV file\n",
        "ntu_df.to_csv(\"/content/drive/MyDrive/Part2/Analysis/ntu_data.csv\")\n",
        "\n",
        "# Create a dataframe for Bible only\n",
        "bible_df = pd.DataFrame(bible_data[1:], columns=bible_data[0])\n",
        "\n",
        "# Save to a CSV file\n",
        "bible_df.to_csv(\"/content/drive/MyDrive/Part2/Analysis/bible_data.csv\")"
      ],
      "metadata": {
        "id": "S8jZbZuf7eby"
      },
      "execution_count": null,
      "outputs": []
    },
    {
      "cell_type": "code",
      "source": [
        "verb_df.head(10)"
      ],
      "metadata": {
        "id": "-LG0wZsb45is"
      },
      "execution_count": null,
      "outputs": []
    },
    {
      "cell_type": "code",
      "source": [
        "ntu_df.head(10)"
      ],
      "metadata": {
        "id": "tac43T_g5ehu"
      },
      "execution_count": null,
      "outputs": []
    },
    {
      "cell_type": "markdown",
      "source": [
        "Below are the translations of the 10 most frequent verbs in the NTU Corpus:\n",
        "*   nengnenghan = see\n",
        "*   mikilim = search\n",
        "*   minengneng = see\n",
        "*   mipitpit = pluck\n",
        "*   manengneng = see\n",
        "*   maaraw = see\n",
        "*   mikalic = climb\n",
        "*   miala = take\n",
        "*   minukay = return\n",
        "*   tayra = go\n",
        "\n",
        "Most of these make sense, although the frequencies would probably be much different if we had a larger set of data. The more surprising verbs like \"pluck\" and \"climb\" are probably specific to the stories in the NTU Corpus.\n",
        "\n"
      ],
      "metadata": {
        "id": "WyseoiYt6JYM"
      }
    },
    {
      "cell_type": "code",
      "source": [
        "bible_df.head(10)"
      ],
      "metadata": {
        "id": "N4Slg7MA9gTK"
      },
      "execution_count": null,
      "outputs": []
    },
    {
      "cell_type": "markdown",
      "source": [
        "Even though we do not have a word-by-word translation of the Bible, it is pretty clear that these words do not look like verbs. Most of them are shorter than the verbs in the NTU Corpus. It looks like \"ta\" could be some sort of particle, and \"Yis\" is the name for Jesus. It is possible that many of the potential verbs in the Bible that we identified using the classifier are actually verbs, but the most frequent ones are probably not verbs. This is not surprising because our classifier had an accuracy of about 87%, so the most frequent potential verbs seem to be frequent nouns, particles, and function words. While we are fairly confident in NTU Corpus verb list, we are not as confident in the Bible verb list."
      ],
      "metadata": {
        "id": "bl9sy61p-4LW"
      }
    },
    {
      "cell_type": "code",
      "source": [
        "# Get a set of verbs in both the NTU Corpus and Bible\n",
        "in_both = set(ntu_unique).intersection(set(bible_unique))\n",
        "print(in_both)\n",
        "print(len(in_both))"
      ],
      "metadata": {
        "id": "9lIwe5XqVR0q"
      },
      "execution_count": null,
      "outputs": []
    },
    {
      "cell_type": "markdown",
      "source": [
        "Below are the translations of the first few verbs in both datasets:\n",
        "\n",
        "\n",
        "*   cumikay = run\n",
        "*   mafana = know\n",
        "*   tayni = come\n",
        "*   sasuwalen = speak\n",
        "*   masadak = go out\n",
        "\n"
      ],
      "metadata": {
        "id": "0FuakEjCB1TH"
      }
    },
    {
      "cell_type": "code",
      "source": [
        "# Get verbs in both datasets\n",
        "verb_df[(verb_df[\"Rank in NTU\"] != \"N/A\") & (verb_df[\"Rank in Bible\"] != \"N/A\")].head(10)"
      ],
      "metadata": {
        "id": "zNQCVK_5Cg6z"
      },
      "execution_count": null,
      "outputs": []
    },
    {
      "cell_type": "markdown",
      "source": [
        "The fact that there are only 72 verbs in common between the lists of 665 and 4440 unique verbs in the NTU Corpus and Bible suggests that the classifier was not successful in identifying verbs accurately, that there may be some orthographical inconsistencies between the two texts, and/or that the NTU stories and the Bible stories discuss very different topics."
      ],
      "metadata": {
        "id": "4ZmswgTP4DgX"
      }
    },
    {
      "cell_type": "markdown",
      "source": [
        "Because our list of verbs in the Bible appears to be somewhat unreliable, we will be focusing our analysis on the list of verbs in the NTU Corpus."
      ],
      "metadata": {
        "id": "dRZq-kvCAz4W"
      }
    },
    {
      "cell_type": "markdown",
      "source": [
        "## STEP 3: Analysis of NTU verbs\n",
        "These graphs are available in the Analysis subfolder of our Part2 folder."
      ],
      "metadata": {
        "id": "k9FBKYGaDgGK"
      }
    },
    {
      "cell_type": "code",
      "source": [
        "# CREATE BAR GRAPH OF 25 MOST FREQUENT VERBS\n",
        "\n",
        "# Get verbs and their frequencies in the NTU Corpus\n",
        "verbs = ntu_df[\"Verb\"].tolist()\n",
        "print(verbs)\n",
        "\n",
        "freqs = ntu_df[\"Frequency in NTU\"].tolist()\n",
        "print(freqs)\n",
        "\n",
        "locations = [i for i in range(0, 25)]\n",
        "plt.bar(locations, freqs[:25])\n",
        "\n",
        "# Add ticks and labels to plot\n",
        "myticks = range(0,25,1)\n",
        "mylabels = [verbs[x] for x in myticks]\n",
        "plt.xticks(ticks = myticks,\n",
        "           labels = mylabels,\n",
        "           rotation=80)\n",
        "\n",
        "# Add title and label axes\n",
        "plt.title(\"Most Frequent Verbs in the NTU Corpus\")\n",
        "plt.ylabel(\"Frequency\")\n",
        "plt.xlabel(\"Verb\")\n",
        "plt.show()"
      ],
      "metadata": {
        "id": "cvfYMwYKFtlX"
      },
      "execution_count": null,
      "outputs": []
    },
    {
      "cell_type": "code",
      "source": [
        "# CREATE BAR GRAPH OF VOICE FREQUENCIES\n",
        "\n",
        "# Get voices\n",
        "voices = ntu_df[\"Voice\"].tolist()\n",
        "print(voices)\n",
        "\n",
        "# Create a dictionary of voice frequencies\n",
        "voice_dict = {}\n",
        "for voice in voices:\n",
        "  if voice not in voice_dict:\n",
        "    voice_dict[voice] = 1\n",
        "  else:\n",
        "    voice_dict[voice] += 1\n",
        "\n",
        "# Sort dictionary by frequency\n",
        "# Create tuples of (voice, frequency)\n",
        "sorted_voice = sorted(voice_dict.items(), key=lambda x: x[1], reverse=True)\n",
        "\n",
        "new_voice = []\n",
        "voice_freqs = []\n",
        "# Get list of frequencies\n",
        "for voice, freq in sorted_voice:\n",
        "  new_voice.append(voice)\n",
        "  voice_freqs.append(freq)\n",
        "\n",
        "print(sorted_voice)\n",
        "\n",
        "# Create bar graph\n",
        "locations = [i for i in range(0, 5)]\n",
        "plt.bar(locations, voice_freqs)\n",
        "\n",
        "# Add ticks and labels to plot\n",
        "myticks = range(0,5,1)\n",
        "mylabels = [new_voice[x] for x in myticks]\n",
        "plt.xticks(ticks = myticks,\n",
        "           labels = mylabels,\n",
        "           rotation=45)\n",
        "\n",
        "# Add title and label axes\n",
        "plt.title(\"Frequency of Marked Voice in the NTU Verbs\")\n",
        "plt.ylabel(\"Frequency\")\n",
        "plt.xlabel(\"Voice\")\n",
        "plt.show()"
      ],
      "metadata": {
        "id": "onx4xGzAK9fr"
      },
      "execution_count": null,
      "outputs": []
    },
    {
      "cell_type": "code",
      "source": [
        "# CREATE BAR GRAPH OF 25 MOST FREQUENT VERB STEMS\n",
        "\n",
        "stems = ntu_df[\"Stem\"].tolist()\n",
        "print(stems)\n",
        "\n",
        "# Create a dictionary of stem frequencies\n",
        "stem_dict = {}\n",
        "for stem in stems:\n",
        "  if stem not in stem_dict:\n",
        "    stem_dict[stem] = 1\n",
        "  else:\n",
        "    stem_dict[stem] += 1\n",
        "\n",
        "# Sort dictionary by frequency\n",
        "# Create tuples of (stem, frequency)\n",
        "sorted_stem = sorted(stem_dict.items(), key=lambda x: x[1], reverse=True)\n",
        "\n",
        "new_stems = []\n",
        "stem_freqs = []\n",
        "# Get list of frequencies\n",
        "for stem, freq in sorted_stem:\n",
        "  new_stems.append(stem)\n",
        "  stem_freqs.append(freq)\n",
        "\n",
        "print(sorted_stem)\n",
        "\n",
        "# Create bar graph\n",
        "locations = [i for i in range(0, 25)]\n",
        "plt.bar(locations, stem_freqs[:25])\n",
        "\n",
        "# Add ticks and labels to plot\n",
        "myticks = range(0,25,1)\n",
        "mylabels = [new_stems[x] for x in myticks]\n",
        "plt.xticks(ticks = myticks,\n",
        "           labels = mylabels,\n",
        "           rotation=80)\n",
        "\n",
        "# Add title and label axes\n",
        "plt.title(\"Most Frequent Verb Stems in the NTU Verbs\")\n",
        "plt.ylabel(\"Frequency\")\n",
        "plt.xlabel(\"Stem\")\n",
        "plt.show()"
      ],
      "metadata": {
        "id": "cHUB_qriMEiA"
      },
      "execution_count": null,
      "outputs": []
    },
    {
      "cell_type": "code",
      "source": [
        "# DETERMINE HOW MANY VOICES EACH VERB STEM TAKES ON\n",
        "\n",
        "# Group by stem\n",
        "stem_group = ntu_df.groupby(\"Stem\")\n",
        "\n",
        "four_voices = []\n",
        "three_voices = []\n",
        "two_voices = []\n",
        "one_voice = []\n",
        "\n",
        "# For each stem, check how many voices occur with it\n",
        "for stem, group in stem_group:\n",
        "    if len(group[\"Voice\"].unique()) == 4:\n",
        "        four_voices.append(stem)\n",
        "    elif len(group[\"Voice\"].unique()) == 3:\n",
        "        three_voices.append(stem)\n",
        "    elif len(group[\"Voice\"].unique()) == 2:\n",
        "        two_voices.append(stem)\n",
        "    elif len(group[\"Voice\"].unique()) == 1:\n",
        "        one_voice.append(stem)\n",
        "\n",
        "print(len(four_voices), \"stems occur with all 4 voices:\", four_voices)\n",
        "print(len(three_voices), \"stems occur with 3 voices:\", three_voices)\n",
        "print(len(two_voices), \"stems occur with 2 voices:\", two_voices)\n",
        "print(len(one_voice), \"stems occur with only 1 voice:\", one_voice)"
      ],
      "metadata": {
        "id": "yQkhy4iBPpO9"
      },
      "execution_count": null,
      "outputs": []
    },
    {
      "cell_type": "markdown",
      "source": [
        "\n",
        "\n",
        "```\n",
        "7 stems occur with all 4 voices: [\"fana'\", 'kalic', 'lima', \"ma'an\", 'ta', 'tayni', 'tayra']\n",
        "24 stems occur with 3 voices: ['[unknown]', 'araw', 'falic', 'han', 'hiya', 'iw', 'lecad', 'licay', 'nengneng', \"nga'ay\", 'nukay', 'padang', \"ra'ur\", 'ruray', 'tama', 'tayal', 'tefad', 'teli', 'tengil', 'tihi', 'tilid', 'tulu', 'tusa', 'uway']\n",
        "62 stems occur with 2 voices: [\"'aca\", \"'ayaw\", 'aluman', 'angang', \"ati'\", \"celi'\", 'cumud', 'cuwa', 'edeng', 'emin', 'fangcal', 'fukil', 'fun', \"futi'\", 'harateng', 'harek', 'hatira', 'hayda', 'herek', 'hufuc', 'ini', 'itira', \"ka'en\", 'kadafu', 'kerid', 'kilim', 'kimad', 'kunkun', 'lipahak', \"lisu'\", 'liyaw', \"luma'\", 'luwad', 'matira', 'matiya', 'neng', 'ngangan', 'ngiyangi', 'pacuk', 'pafeli', 'paluma', 'paru', 'patiku', 'pina', 'pitpit', 'pudpud', 'pulin', \"ra'ud\", 'rakat', 'ruma', 'sadak', 'sanga', \"su'elin\", 'tahidang', 'tiren', \"tu'as\", 'tudung', 'tulas', 'tumes', 'tumus', 'ulah', 'urad']\n",
        "153 stems occur with only 1 voice: [\"'anuf\", \"'eci\", \"'pud\", 'acukemas', 'adihay', 'afufu', 'alul', 'aray', \"aw'aw'\", 'awaw', 'ayaw', \"ca'a\", 'cacay', 'caciyau', 'camul', 'ccay', 'cekuk', 'chunpi', \"ci'ci\", 'cidal', \"cu'ung\", 'cucuk', 'curuk', 'dadakaw', 'dadaya', 'dakaw', 'danguy', 'demak', \"duka'\", \"e'min\", 'edaw', 'efer', 'enem', 'epud', 'epung', \"fafahi'\", 'fahekul', 'fahinayan', 'fana', 'faw', 'filu', 'fiyuk', 'fuhad', 'funsia', 'furaw', \"ha'en\", 'haen', 'hakerung', 'heci', 'hemak', 'hemhem', 'hening', 'herak', 'hicurcur', 'ikur', 'ilisin', 'itiya', 'iyan', 'iyuf', 'kadkad', 'kaen', 'kanid', 'kansia', 'kawal', 'kawas', 'kayakay', 'kecur', 'kedal', 'kelid', 'keter', 'kilang', 'kinkin', 'kiyafes', \"ku'ku'\", 'kunira', \"la'enu\", \"la'up\", 'lafak', 'lafin', 'lawpen', \"leda'\", 'lekal', 'lemed', 'lemes', 'lepet', 'lepun', 'liad', 'liaw', 'lidafak', 'limed', 'limek', 'limela', 'lingad', 'litemuh', 'litmuh', 'liyas', \"lu'\", 'lufic', 'lukelun', 'lumed', 'lutuk', 'maan', 'miheca', 'mumuk', 'munengaw', 'mutep', 'nanam', 'nanum', 'ngaay', \"niyaru'\", 'pafuli', 'panay', 'pawali', 'payci', 'paytemek', \"pela'\", 'puhed', 'raheker', 'ranam', 'rarum', 'rayray', 'rufu', 'rulay', 'siday', 'sikin', 'sikul', 'sitatatata', 'smut', 'stul', 'sulinga', 'suni', 'suwal', 'tadem', 'tangtang', 'tapang', 'tapuh', 'teked', 'tekur', 'tenak', 'tenes', 'tild', 'tiwas', \"tu'ur\", 'tuas', 'tuisiu', 'turung', 'tusuk', \"u'uk\", 'ulung', 'ungcuy', 'ura', 'uwai', 'wacu']\n",
        "```\n",
        "\n"
      ],
      "metadata": {
        "id": "u_g9w24-zHnM"
      }
    }
  ]
}